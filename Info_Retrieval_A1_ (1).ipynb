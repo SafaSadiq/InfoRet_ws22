{
  "cells": [
    {
      "cell_type": "markdown",
      "id": "afa1d09c",
      "metadata": {
        "id": "afa1d09c"
      },
      "source": [
        "<h1 style=\"text-align: center;\"><center>Information Retrieval in High Dimensional Data</center></h1>\n",
        "<h2 style=\"text-align: center;\"><center>Assignment 1</center></h2>\n",
        "<center> \n",
        "\n",
        "##### by\n",
        "\n",
        "### Safa Sadiq - 03751043\n",
        "### Ali Ahmad Khan - 03751040"
      ]
    },
    {
      "cell_type": "markdown",
      "source": [
        "## **Curse of Dimensionality**"
      ],
      "metadata": {
        "id": "RbPrPxCT6Mh4"
      },
      "id": "RbPrPxCT6Mh4"
    },
    {
      "cell_type": "markdown",
      "source": [
        "##TASK 1\n",
        "\n",
        "**Part (i)**\n",
        "\n",
        "As x is uniformly distributed, pdf of $x$ in $p$ dimensions is:\n",
        "$$pdf(x) = \\frac{1}{1^p} = 1$$\n",
        "Therefore , $p(x \\in C_d) = \\int_\\frac{-d}{2}^\\frac{d}{2}.....\\int_\\frac{-d}{2}^\\frac{d}{2} |\\,\\,dx_1\\,dx_2...dx_p = d^p$\n",
        "<br>\n",
        "It is given that $p(x \\in C_d) = q$\n",
        "<br>\n",
        "Hence:\n",
        "$$d^p = q$$\n",
        "which implies that:\n",
        "$$d = q^\\frac{1}{p}$$\n",
        "\n",
        "**Part (ii)**\n",
        "<br>\n",
        "$$P(|X|\\le 2.576) = 0.99$$\n",
        "<br>\n",
        "=> $ P(||X^p||\\le 2.576) = 0.99^p$   --probability of independant events can be multiplied together\n",
        "<br>\n",
        "=> $ P(||X^p||> 2.576) = 1 -  P(||X^p||\\le 2.576) $    --P(atleast one component of $X^p$ lies outside the $C_d$) = 1 - P(all components lie inside $C_d$)\n",
        "<br>\n",
        "=> $ P(||X^p||> 2.576) = 1 - 0.99^p$\n",
        "\n",
        "for\n",
        "$$ p = 2, 1 - 0.99^2 = 0.0199$$\n",
        "$$ p = 3, 1 - 0.99^3 = 0.029701$$\n",
        "$$ p = 500, 1 - 0.99^2 = 0.90343$$\n",
        "                         "
      ],
      "metadata": {
        "id": "oGjYpMyq8OWB"
      },
      "id": "oGjYpMyq8OWB"
    },
    {
      "cell_type": "markdown",
      "id": "2c27dbf8",
      "metadata": {
        "id": "2c27dbf8"
      },
      "source": [
        "***\n",
        "##TASK 2\n",
        "\n",
        "\n"
      ]
    },
    {
      "cell_type": "code",
      "execution_count": 1,
      "id": "06572fd7",
      "metadata": {
        "id": "06572fd7"
      },
      "outputs": [],
      "source": [
        "\"\"\"\n",
        "Import libraries\n",
        "\"\"\"\n",
        "\n",
        "import numpy as np\n",
        "import math\n",
        "import matplotlib.pyplot as plt"
      ]
    },
    {
      "cell_type": "markdown",
      "id": "2238716a",
      "metadata": {
        "id": "2238716a"
      },
      "source": [
        "**Part (i)**\n",
        "\n",
        "Sample 100 uniformly distributed random vectors from the box $[−1, 1]^d$\n",
        "for d = 2"
      ]
    },
    {
      "cell_type": "code",
      "execution_count": 2,
      "id": "4f98d598",
      "metadata": {
        "id": "4f98d598"
      },
      "outputs": [],
      "source": [
        "def get_samples(n,d,box):\n",
        "    \"\"\"\n",
        "    Params: n -> number of samples\n",
        "            d -> dimension of vectors\n",
        "            box -> domain of vector values\n",
        "    Returns: list of n uniformly chosen vectors of dimension 1xd\n",
        "\n",
        "    \"\"\"\n",
        "    samples = np.random.uniform(box[0],box[1], [n, d])\n",
        "    return samples\n",
        "\n",
        "\n",
        "samples = get_samples(100,2,[-1,1])\n"
      ]
    },
    {
      "cell_type": "markdown",
      "id": "1b1498af",
      "metadata": {
        "id": "1b1498af"
      },
      "source": [
        "**Part (ii)**\n",
        "\n",
        "For each of the 100 vectors determine the minimum angle to all other vectors.\n",
        "Then compute the average of these minimum angles."
      ]
    },
    {
      "cell_type": "code",
      "execution_count": 3,
      "id": "da3be1b6",
      "metadata": {
        "id": "da3be1b6"
      },
      "outputs": [],
      "source": [
        "def compute_angle(vec1, vec2):\n",
        "    \"\"\"\n",
        "    Params: vector1 and vector 2\n",
        "    Returns: Angle between the two vectors\n",
        "    \"\"\"\n",
        "    dot_product = np.dot(vec1, vec2)    #computes dot product\n",
        "    vec1_norm = np.linalg.norm(vec1)    #computes norm\n",
        "    vec2_norm = np.linalg.norm(vec2)\n",
        "    \n",
        "    if vec1_norm == 0 or vec2_norm == 0: \n",
        "        #return 0 if either norm is 0 to avoid division by 0\n",
        "        return 0\n",
        "    \n",
        "    else :\n",
        "        #compute angle \n",
        "        cos_angle = dot_product / (vec1_norm*vec2_norm)\n",
        "        angle = np.arccos(cos_angle)   \n",
        "        return angle\n",
        "\n",
        "def find_min_angle(vectors):\n",
        "    \"\"\"\n",
        "    Params: list of vectors \n",
        "    Computes: Angle from each vector to all other vectors, excluding itself. Then for each vector, finds the minimum angle\n",
        "    Returns: list of minimum angle from each vector to all other vectors\n",
        "    \"\"\"\n",
        "    n = vectors.shape[0]   #number of samples\n",
        "    angles = np.ones((n,n)) * 2 * math.pi  #initalized angles to 2* pi as that is the maximum value\n",
        "    min_angle = np.ones(n)   #vector to store minimum angle for each sample\n",
        "    \n",
        "    for i in range(0,n):\n",
        "        for j in range(0,n):\n",
        "            if i != j:      #compute angle to every vector other than itself\n",
        "                angles[i][j] = compute_angle(vectors[i], vectors[j])\n",
        "    \n",
        "    for i in range(0,n):\n",
        "        #find min angle for each sample\n",
        "        min_angle[i] = min(angles[i])\n",
        "\n",
        "    return min_angle\n",
        "\n",
        "def average_min_angle(min_angles):\n",
        "    \"\"\"\n",
        "    Params: list of minimum angles for each vector \n",
        "    Returns: average value of the list\n",
        "    \"\"\"\n",
        "    return sum(min_angles) / len(min_angles)"
      ]
    },
    {
      "cell_type": "code",
      "execution_count": 4,
      "id": "80e372d5",
      "metadata": {
        "id": "80e372d5",
        "outputId": "5513fc5e-36d4-42a7-cb89-125553f54b2e",
        "colab": {
          "base_uri": "https://localhost:8080/"
        }
      },
      "outputs": [
        {
          "output_type": "stream",
          "name": "stdout",
          "text": [
            "The average of the minimum angles is:  0.03302840087387061\n"
          ]
        }
      ],
      "source": [
        "samples = get_samples(100,2,[-1,1])\n",
        "min_angles = find_min_angle(samples)\n",
        "average_min_angle = average_min_angle(min_angles)\n",
        "\n",
        "print(\"The average of the minimum angles is: \", average_min_angle)"
      ]
    },
    {
      "cell_type": "markdown",
      "id": "4566679d",
      "metadata": {
        "id": "4566679d"
      },
      "source": [
        "**Part (iii)**\n",
        "\n",
        "Repeat the above for dimensions d = 1, . . . , 1000 and use the results to plot the\n",
        "average minimum angle against the dimension."
      ]
    },
    {
      "cell_type": "code",
      "execution_count": 5,
      "id": "e37cef9a",
      "metadata": {
        "id": "e37cef9a"
      },
      "outputs": [],
      "source": [
        "n = 100\n",
        "box = [-1,1]\n",
        "d = 1\n",
        "\n",
        "dimension = []\n",
        "angles = []\n",
        "\n",
        "for d in range(1,1001):   #run for dimensions from 1 to 1000\n",
        "    samples = get_samples(n,d,box)\n",
        "    min_angles = find_min_angle(samples)\n",
        "    avg = sum(min_angles) / len(min_angles)\n",
        "    \n",
        "    dimension.append(d)  #append d to dimension array\n",
        "    angles.append(avg)   #append avg min_angle to angles array\n"
      ]
    },
    {
      "cell_type": "code",
      "execution_count": 6,
      "id": "6e4cc840",
      "metadata": {
        "id": "6e4cc840",
        "outputId": "0fc3094b-1648-4309-f55c-1fdb90a148ea",
        "colab": {
          "base_uri": "https://localhost:8080/",
          "height": 279
        }
      },
      "outputs": [
        {
          "output_type": "display_data",
          "data": {
            "text/plain": [
              "<Figure size 432x288 with 1 Axes>"
            ],
            "image/png": "[encoded data removed]"
          },
          "metadata": {
            "needs_background": "light"
          }
        }
      ],
      "source": [
        "#plot dimension against avergae minimum angle\n",
        "plt.plot(dimension,angles)\n",
        "plt.xlabel('Dimension d')\n",
        "plt.ylabel('Average Min Angle [rad]')\n",
        "\n",
        "plt.show()"
      ]
    },
    {
      "cell_type": "markdown",
      "id": "aec8dba9",
      "metadata": {
        "id": "aec8dba9"
      },
      "source": [
        "**Part (iv)**\n",
        "\n",
        "Give an interpretation of the result. What conclusions can you draw for 2 randomly sampled vectors in a d-dimensional space?\n",
        "\n",
        "1. As the dimension increases, the average minimum angle increases initially and then converges to a value close to 1.5 (pi/2)\n",
        "\n",
        "2. Hence as the dimension increaes, there is a greater probability that two randomly sampled vectors are close to orthogonal, as the angle between them approaches 90 degrees.\n"
      ]
    },
    {
      "cell_type": "markdown",
      "id": "c1908375",
      "metadata": {
        "id": "c1908375"
      },
      "source": [
        "**Part (v)**\n",
        "\n",
        "Does the result change if the sample size increases?"
      ]
    },
    {
      "cell_type": "code",
      "execution_count": 13,
      "id": "819a7831",
      "metadata": {
        "id": "819a7831"
      },
      "outputs": [],
      "source": [
        "box = [-1,1] \n",
        "samples = np.zeros((7))\n",
        "dimension = np.zeros((7,1001))  #initialize array to store dimensions\n",
        "angles = np.zeros((7,1001))     #initialize array to store angles\n",
        "\n",
        "\n",
        "for n in range(0,7): # run for 7 different sample sizes (100, 120, 140, 160, 180, 200, 220)\n",
        "    for d in range(1,1001):   #run for dimensions 1 to 1000\n",
        "        s = get_samples((n*20)+100,d,box)\n",
        "        min_angles = find_min_angle(s)\n",
        "        avg = sum(min_angles) / len(min_angles)\n",
        "\n",
        "        dimension[n][d] = d\n",
        "        angles[n][d] = avg\n",
        "    samples[n] = (n*20)+100\n",
        "\n",
        "   "
      ]
    },
    {
      "cell_type": "code",
      "execution_count": 20,
      "id": "2519e23c",
      "metadata": {
        "id": "2519e23c",
        "colab": {
          "base_uri": "https://localhost:8080/",
          "height": 877
        },
        "outputId": "777d5ad4-21b8-4926-ea86-f10e59538e14"
      },
      "outputs": [
        {
          "output_type": "display_data",
          "data": {
            "text/plain": [
              "<Figure size 1080x1080 with 1 Axes>"
            ],
            "image/png": "[encoded data removed]"
          },
          "metadata": {
            "needs_background": "light"
          }
        }
      ],
      "source": [
        "colors = ['green', 'red', 'blue', 'cyan', 'magenta', 'yellow', 'black'] #different colours for each sample size\n",
        "\n",
        "plt.xlabel('Dimension d')\n",
        "plt.ylabel('Average Min Angle [rad]')\n",
        "\n",
        "#plot dimension against minimum average angle for each sample size\n",
        "for i in range(0,len(colors)):\n",
        "    plt.plot(dimension[i], angles[i], color=colors[i], label =samples[i] )\n",
        "\n",
        "plt.rcParams[\"figure.figsize\"] = (20,20)\n",
        "plt.legend()\n",
        "plt.show()"
      ]
    },
    {
      "cell_type": "markdown",
      "source": [
        "Changing the sample size slighly alters the rate at which the average minimum angle increases. As the sample size is increased, the rate at which the average minimum angle increases and the converges, also increases. \n",
        "For all sample sizes, however, the average minimum angle converges to the same value of approximately 1.5"
      ],
      "metadata": {
        "id": "hv4egtWxm6Xy"
      },
      "id": "hv4egtWxm6Xy"
    },
    {
      "cell_type": "markdown",
      "source": [
        "***\n",
        "## **Statistical Decision Making**\n",
        "\n"
      ],
      "metadata": {
        "id": "zNpTp3GTKN4S"
      },
      "id": "zNpTp3GTKN4S"
    },
    {
      "cell_type": "markdown",
      "source": [
        "\n",
        "## Task 3\n",
        "\n",
        "**Part(i)**\n",
        "<br>\n",
        "Yes, because:<br> \n",
        "1. The probabilities sum to 1 <br>\n",
        "2. The mean and standard deviation can be calculated as: \n",
        "$$\\mu = \\sum_{i=1}^{n}x_i P(x_i) $$\n",
        "$$\\sigma = \\sqrt{\\sum_{i=1}^{n}(x_i - \\mu)^2 + P(x_i)}$$\n",
        "\n",
        "<br>\n",
        "\n",
        "**Part(ii)**\n",
        "<br>\n",
        "$$E_{Y|X = 2}[Y] = E(Y|X = 2)$$\n",
        "$$ = \\sum_{y} yf_{Y|X}(y|x) $$\n",
        "$$\\sum_{y} P(Y|X = 2) = 0.4 + 0.14 + 0.05 = 0.59$$\n",
        "<br>\n",
        "$$\\sum_{y} yf_{Y|X}(y|x) = 1(\\frac{0.4}{0.59}) +2(\\frac{0.14}{0.59}) +3(\\frac{0.05}{0.59}) = 1.407$$\n",
        "<br> and <br>\n",
        "$$\\,\\, P(X=1|Y=3) = \\frac{P(X=1 \\cap Y=3)}{P(Y=3)} = \\frac{0.13}{0.13+0.05} = 0.722$$\n",
        "<br>\n",
        "**Part(iii)**\n",
        "<br>\n",
        "$$p(x,y) = \\int_{0}^\\frac{1}{2}\\int_{0}^1 1\\,dx\\,dy = \\int_{0}^\\frac{1}{2} [x]_{0}^{1}\\,dy$$\n",
        "<br>\n",
        "$$=\\int_{0}^\\frac{1}{2} [1-0]\\,dy$$\n",
        "<br>\n",
        "$$=\\int_{0}^\\frac{1}{2} 1\\,dy$$\n",
        "<br>\n",
        "$$= [y]_{0}^\\frac{1}{2} => \\frac{1}{2} - 0 => \\frac{1}{2} \\ne 0$$\n",
        "\n",
        "**part (iv)**\n",
        "<br>\n",
        "for X:\n",
        "<br>\n",
        "$$p(x) =  \\int_{x}^\\infty p(x,y)\\,dy$$\n",
        "<br>\n",
        "$$=\\int_{x}^\\infty 2e^{-(x+y)}\\,dy$$\n",
        "<br>\n",
        "$$=2e^{-x}\\int_{x}^\\infty e^{-y}\\,dy$$\n",
        "<br>\n",
        "$$=2e^{-x}[-e^{-y}]^{\\infty}_x$$\n",
        "<br>\n",
        "$$=2e^{-x}[0 -(-e^{-x})]$$\n",
        "<br>\n",
        "$$= 2e^{-x}(e^{-x})$$\n",
        "<br>\n",
        "$$ = 2e^{-2x} $$\n",
        "\n",
        "\n",
        "<br>\n",
        "For Y:\n",
        "<br>\n",
        "$$p(y) =  \\int_{0}^y 2e^{-(x+y)}\\,dx$$\n",
        "<br>\n",
        "$$=2e^{-y}\\int_{0}^y e^{-x}\\,dx$$\n",
        "<br>\n",
        "$$= 2e^{-y}[-e^{-x}]^{y}_0$$\n",
        "<br>\n",
        "$$= 2e^{-y}(-e^{-y}+1)$$\n",
        "<br>\n",
        "$$= 2e^{-2y} + 2e^{-y}$$\n",
        "\n",
        "**part (v)**\n",
        "<br>\n",
        "$$p(y) =  \\int_{0}^3 p(x,y)\\,dx$$\n",
        "<br>\n",
        "$$=  \\int_{0}^3 \\frac{1}{15}(2x + 4y)\\,dx$$\n",
        "<br>\n",
        "$$=  \\frac{1}{15}\\int_{0}^3 (2x + 4y)\\,dx$$\n",
        "<br>\n",
        "$$=  \\frac{1}{15}[x^2 + 4xy]^{3}_{0}$$\n",
        "<br>\n",
        "$$=  \\frac{1}{15}[9 + 12y - 0 - 0]$$\n",
        "<br>\n",
        "$$=  \\frac{1}{15}[12y + 9]$$\n",
        "<br>\n",
        "$$=  \\frac{1}{5}[4y + 3]$$\n",
        "<br>\n",
        "<br>\n",
        "<br>\n",
        "$$P(X \\le 2 | Y = \\frac{1}{2}) = \\int_{0}^2 \\frac{p(x,y)}{p(y)}\\,dx\\;\\;\\;\\;given\\, y = \\frac{1}{2}$$\n",
        "<br>\n",
        "$$= \\int_{0}^2 \\frac{\\frac{1}{15}(2x+4y)}{\\frac{1}{5}(4y+3)}\\,dx\\;\\;\\;\\;given\\, y = \\frac{1}{2}$$\n",
        "<br>\n",
        "$$= \\int_{0}^2 \\frac{2x+4y}{3(4y+3)}\\,dx\\;\\;\\;\\;given\\, y = \\frac{1}{2}$$\n",
        "<br>\n",
        "$$= \\int_{0}^2 \\frac{2x+4(\\frac{1}{2})}{3(4(\\frac{1}{2})+3)}\\,dx$$\n",
        "<br>\n",
        "$$= \\int_{0}^2 \\frac{2x+2}{15}\\,dx$$\n",
        "<br>\n",
        "$$= \\frac{2}{15}\\int_{0}^2 x+1\\,dx$$\n",
        "<br>\n",
        "$$= \\frac{2}{15}[\\frac{1}{2}x^2 + x]^{2}_{0}$$\n",
        "<br>\n",
        "$$=\\frac{2}{15}(\\frac{4}{2}+2-0-0)$$\n",
        "<br>\n",
        "$$= \\frac{2\\times4}{15}$$\n",
        "<br>\n",
        "$$= \\frac{8}{15}$$\n",
        "\n"
      ],
      "metadata": {
        "id": "bPbBpScLEWxn"
      },
      "id": "bPbBpScLEWxn"
    },
    {
      "cell_type": "markdown",
      "source": [
        "***\n",
        "### Task 4\n",
        "\n",
        "Covariance Matrix C for any random variable $x \\in R^p$ is defined as: \n",
        "$$C_x = E[(X - E(X))(X-E(X))^T]$$\n",
        "Proof that $C_x$ is symmetric:\n",
        "<br>\n",
        "Show that $C_x = C_{x}^{T}$\n",
        "$$C_x = E[(X - E(X))(X-E(X))^T]$$\n",
        "$$Let\\,E(X) = \\mu$$\n",
        "$$= E[(X - \\mu)(X-\\mu)^T]$$\n",
        "$$= E[(X - \\mu)(X^T-\\mu^T)]$$\n",
        "$$= E[XX^T - X\\mu^T - \\mu X^T + \\mu\\mu^T]$$\n",
        "<br>\n",
        "using Linearty of Expectation\n",
        "$$= E(XX^T) - E(X\\mu^T) - E(\\mu X^T) + E(\\mu\\mu^T)$$ \n",
        "<br>\n",
        "using Expectation of Constant = Constant\n",
        "$$= E(XX^T) - E(X)\\mu^T - \\mu E(X^T) + \\mu\\mu^T$$ \n",
        "<br>\n",
        "Replacing $E(x)$ with $\\mu$\n",
        "$$=E(XX^T) - \\mu\\mu^T - \\mu\\mu^T + \\mu\\mu^T$$ \n",
        "$$=E(XX^T) - \\mu\\mu^T              (*)$$ \n",
        "$$=((E(XX^T) - \\mu\\mu^T)^T)^T$$\n",
        "$$=((E(XX^T))^T - (\\mu\\mu^T)^T)^T$$\n",
        "$$=(E((XX^T)^T) - (\\mu\\mu^T)^T)^T$$\n",
        "$$=(E((X^T)^TX^T) - (\\mu^T)^T\\mu^T)^T$$\n",
        "$$=(E(XX^T) - \\mu\\mu^T)^T$$\n",
        "Using (*)\n",
        "$$=C_x^T$$\n",
        "\n",
        "Proof that  $C_x$ is positive semidefinite:\n",
        "<br>\n",
        "Show that $x^TC_x \\ge 0$\n",
        "$$C_x = E[(X - E(X))(X-E(X))^T]$$\n",
        "<br>\n",
        "Using $E(X)$ = $\\mu$\n",
        "$$= E[(X - \\mu)(X-\\mu)^T]$$\n",
        "<br>\n",
        "\n",
        "$$x^TC_xx = x^TE[(X - \\mu)(X-\\mu)^T]x$$\n",
        "<br>\n",
        "Expectation of Constant = Constant\n",
        "$$=E[x^T(X - \\mu)(X-\\mu)^Tx]$$\n",
        "<br>\n",
        "Using $A^Tx$ = $(x^TA)^T$\n",
        "$$=E[(x^T(X - \\mu))(x^T(X-\\mu))^T]$$\n",
        "$$=E[(x^T(x-\\mu))^2]$$\n",
        "<br>\n",
        "Using $A^2 \\ge 0$\n",
        "$$=E[(x^T(x-\\mu))^2] \\ge 0$$\n"
      ],
      "metadata": {
        "id": "4kJzCilch1hd"
      },
      "id": "4kJzCilch1hd"
    }
  ],
  "metadata": {
    "kernelspec": {
      "display_name": "Python 3 (ipykernel)",
      "language": "python",
      "name": "python3"
    },
    "language_info": {
      "codemirror_mode": {
        "name": "ipython",
        "version": 3
      },
      "file_extension": ".py",
      "mimetype": "text/x-python",
      "name": "python",
      "nbconvert_exporter": "python",
      "pygments_lexer": "ipython3",
      "version": "3.9.7"
    },
    "colab": {
      "provenance": []
    }
  },
  "nbformat": 4,
  "nbformat_minor": 5
}